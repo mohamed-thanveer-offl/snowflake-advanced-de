{
 "metadata": {
  "kernelspec": {
   "display_name": "Streamlit Notebook",
   "name": "streamlit"
  },
  "lastEditStatus": {
   "notebookId": "iiyhet6qnn64wh7nbmwh",
   "authorId": "2019220217366",
   "authorName": "THANVEER",
   "authorEmail": "mohamedthanveer246@gmail.com",
   "sessionId": "ab4f8256-0e90-4a17-98a5-4dd6dbd49627",
   "lastEditTime": 1737134082449
  }
 },
 "nbformat_minor": 5,
 "nbformat": 4,
 "cells": [
  {
   "cell_type": "markdown",
   "id": "8dbe0b93-d1eb-4d30-a35a-d9148a2f8bf7",
   "metadata": {
    "name": "DomainWeightings",
    "collapsed": false,
    "resultHeight": 413
   },
   "source": "# Domain Weightings on Exams\n\n1. **Data Movement**  \n   Weighting: 25-30%\n\n2. **Performance Optimization**  \n   Weighting: 10-15%\n\n3. **Storage and Data Protection**  \n   Weighting: 10-15%\n\n4. **Security**  \n   Weighting: 25-30%\n\n5. **Data Transformation**  \n   Weighting: 20-25%"
  },
  {
   "cell_type": "markdown",
   "id": "e9fd29fb-d2ff-4421-a431-0ce61980ee6a",
   "metadata": {
    "name": "Index",
    "collapsed": false,
    "resultHeight": 531
   },
   "source": "# Domain 1: Data Movement\n\n1.1. Connectors And Drivers\n\n1.2. Databases, Tables & Views\n\n1.3. Stages\n\n1.4. File Format\n\n1.5. Copy Into\n\n1.6. Copy History\n\n1.7. Extenal Stages\n\n1.8. Regrex\n\n1.9. Tasks\n\n1.10. Streams\n\n1.11. Snowpipe"
  },
  {
   "cell_type": "markdown",
   "id": "9ee4a61e-0c32-4602-b935-cc72c2242446",
   "metadata": {
    "name": "ConnectorsAndDrivers1",
    "collapsed": false,
    "resultHeight": 615
   },
   "source": "# Topics Covered\n\nUser Interfaces\n\n- Snowsight\n\n- Classic Console\n\nCommand Line Clients\n\n- Snowflake CLI\n\n- SnowSQL\n\nExtensions for Code Editors\n\n- VS Code SQL Extension\n\nInfrastructure as Code\n\n- Snowflake Terraform Provider\n\nDrivers and Libraries\n\n- API Reference\n\nReference Link 1 - [Applications and tools for connecting to Snowflake](https://docs.snowflake.com/guides-overview-connecting)\n"
  },
  {
   "cell_type": "markdown",
   "id": "fdd81a60-9978-4c72-bc6d-66873a5ebb5e",
   "metadata": {
    "name": "cell1",
    "collapsed": false
   },
   "source": ""
  }
 ]
}