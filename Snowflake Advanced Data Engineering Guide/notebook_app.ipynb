{
 "metadata": {
  "kernelspec": {
   "display_name": "Streamlit Notebook",
   "name": "streamlit"
  },
  "lastEditStatus": {
   "notebookId": "qzc72ynjs5em4ro4kxbj",
   "authorId": "2019220217366",
   "authorName": "THANVEER",
   "authorEmail": "mohamedthanveer246@gmail.com",
   "sessionId": "ab4f8256-0e90-4a17-98a5-4dd6dbd49627",
   "lastEditTime": 1737123508663
  }
 },
 "nbformat_minor": 5,
 "nbformat": 4,
 "cells": [
  {
   "cell_type": "markdown",
   "id": "8dbe0b93-d1eb-4d30-a35a-d9148a2f8bf7",
   "metadata": {
    "name": "cell5",
    "collapsed": false,
    "resultHeight": 413
   },
   "source": "# Domain Weightings on Exams\n\n1. **Data Movement**  \n   Weighting: 25-30%\n\n2. **Performance Optimization**  \n   Weighting: 10-15%\n\n3. **Storage and Data Protection**  \n   Weighting: 10-15%\n\n4. **Security**  \n   Weighting: 25-30%\n\n5. **Data Transformation**  \n   Weighting: 20-25%\n"
  },
  {
   "cell_type": "code",
   "id": "3775908f-ca36-4846-8f38-5adca39217f2",
   "metadata": {
    "language": "python",
    "name": "cell1",
    "collapsed": false,
    "resultHeight": 0
   },
   "source": "# Import python packages\nimport streamlit as st\nimport pandas as pd\n\n# We can also use Snowpark for our analyses!\nfrom snowflake.snowpark.context import get_active_session\nsession = get_active_session()\n",
   "execution_count": null,
   "outputs": []
  },
  {
   "cell_type": "code",
   "id": "8d50cbf4-0c8d-4950-86cb-114990437ac9",
   "metadata": {
    "language": "sql",
    "name": "cell2",
    "collapsed": false,
    "resultHeight": 181
   },
   "source": "-- Welcome to Snowflake Notebooks!\n-- Try out a SQL cell to generate some data.\nSELECT 'FRIDAY' as SNOWDAY, 0.2 as CHANCE_OF_SNOW\nUNION ALL\nSELECT 'SATURDAY',0.5\nUNION ALL \nSELECT 'SUNDAY', 0.9;",
   "execution_count": null,
   "outputs": []
  },
  {
   "cell_type": "code",
   "id": "c695373e-ac74-4b62-a1f1-08206cbd5c81",
   "metadata": {
    "language": "python",
    "name": "cell3",
    "collapsed": false,
    "resultHeight": 465
   },
   "source": "# Then, we can use the python name to turn cell2 into a Pandas dataframe\nmy_df = cell2.to_pandas()\n\n# Chart the data\nst.subheader(\"Chance of SNOW ❄️\")\nst.line_chart(my_df, x='SNOWDAY', y='CHANCE_OF_SNOW')\n\n# Give it a go!\nst.subheader(\"Try it out yourself and show off your skills 🥇\")",
   "execution_count": null,
   "outputs": []
  }
 ]
}